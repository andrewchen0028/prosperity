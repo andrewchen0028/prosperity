{
 "cells": [
  {
   "cell_type": "code",
   "execution_count": 2,
   "metadata": {
    "collapsed": true
   },
   "outputs": [],
   "source": [
    "import pandas as pd\n",
    "import numpy as np"
   ]
  },
  {
   "cell_type": "code",
   "execution_count": 3,
   "outputs": [],
   "source": [
    "df = pd.read_csv('round2/ob_train.csv', delimiter=';', index_col=0)\n",
    "df2 = pd.read_csv('round2/ob_val.csv', delimiter=';', index_col=0)"
   ],
   "metadata": {
    "collapsed": false
   }
  },
  {
   "cell_type": "code",
   "execution_count": 6,
   "outputs": [
    {
     "name": "stderr",
     "output_type": "stream",
     "text": [
      "C:\\Users\\Lei\\AppData\\Local\\Temp\\ipykernel_5032\\4216824290.py:4: SettingWithCopyWarning: \n",
      "A value is trying to be set on a copy of a slice from a DataFrame.\n",
      "Try using .loc[row_indexer,col_indexer] = value instead\n",
      "\n",
      "See the caveats in the documentation: https://pandas.pydata.org/pandas-docs/stable/user_guide/indexing.html#returning-a-view-versus-a-copy\n",
      "  slc['lr'] = np.log(slc['mid_price'].shift(-1) / slc['mid_price'])\n",
      "C:\\Users\\Lei\\AppData\\Local\\Temp\\ipykernel_5032\\4216824290.py:5: SettingWithCopyWarning: \n",
      "A value is trying to be set on a copy of a slice from a DataFrame.\n",
      "Try using .loc[row_indexer,col_indexer] = value instead\n",
      "\n",
      "See the caveats in the documentation: https://pandas.pydata.org/pandas-docs/stable/user_guide/indexing.html#returning-a-view-versus-a-copy\n",
      "  slc2['lr'] = np.log(slc2['mid_price'].shift(-1) / slc2['mid_price'])\n"
     ]
    }
   ],
   "source": [
    "for product in ['PEARLS', 'BANANAS', 'COCONUTS', 'PINA_COLADAS']:\n",
    "    slc = df.loc[df['product'] == product]\n",
    "    slc2 = df2.loc[df2['product'] == product]\n",
    "    slc['lr'] = np.log(slc['mid_price'].shift(-1) / slc['mid_price'])\n",
    "    slc2['lr'] = np.log(slc2['mid_price'].shift(-1) / slc2['mid_price'])\n",
    "    df.loc[df['product'] == product] = slc\n",
    "    df2.loc[df2['product'] == product] = slc2"
   ],
   "metadata": {
    "collapsed": false
   }
  },
  {
   "cell_type": "code",
   "execution_count": 7,
   "outputs": [],
   "source": [
    "df.to_csv('round2/ob_train.csv', sep=';')\n",
    "df2.to_csv('round2/ob_val.csv', sep=';')"
   ],
   "metadata": {
    "collapsed": false
   }
  },
  {
   "cell_type": "code",
   "execution_count": 5,
   "outputs": [
    {
     "data": {
      "text/plain": "       Unnamed: 0  timestamp  day       product  bid_price_1  bid_volume_1  \\\n1               1          0   -1  PINA_COLADAS        14999            38   \n6               6        100   -1  PINA_COLADAS        14999            31   \n10             10        200   -1  PINA_COLADAS        14998           106   \n13             13        300   -1  PINA_COLADAS        14999            35   \n16             16        400   -1  PINA_COLADAS        14998            38   \n...           ...        ...  ...           ...          ...           ...   \n79983       79983    1999500    0  PINA_COLADAS        15004            95   \n79987       79987    1999600    0  PINA_COLADAS        15002           107   \n79991       79991    1999700    0  PINA_COLADAS        15003            77   \n79993       79993    1999800    0  PINA_COLADAS        15010            23   \n79999       79999    1999900    0  PINA_COLADAS        15011           108   \n\n       bid_price_2  bid_volume_2  bid_price_3  bid_volume_3  ask_price_1  \\\n1          14998.0          53.0          NaN           NaN        15001   \n6          14998.0          64.0          NaN           NaN        15001   \n10             NaN           NaN          NaN           NaN        15001   \n13         14998.0          67.0          NaN           NaN        15001   \n16         14997.0          69.0          NaN           NaN        15000   \n...            ...           ...          ...           ...          ...   \n79983          NaN           NaN          NaN           NaN        15007   \n79987          NaN           NaN          NaN           NaN        15005   \n79991          NaN           NaN          NaN           NaN        15006   \n79993      15009.0          74.0          NaN           NaN        15013   \n79999          NaN           NaN          NaN           NaN        15014   \n\n       ask_volume_1  ask_price_2  ask_volume_2  ask_price_3  ask_volume_3  \\\n1                38      15002.0          53.0          NaN           NaN   \n6                31      15002.0          64.0          NaN           NaN   \n10              106          NaN           NaN          NaN           NaN   \n13               35      15002.0          67.0          NaN           NaN   \n16               38      15001.0          69.0          NaN           NaN   \n...             ...          ...           ...          ...           ...   \n79983            95          NaN           NaN          NaN           NaN   \n79987           107          NaN           NaN          NaN           NaN   \n79991            77          NaN           NaN          NaN           NaN   \n79993            97          NaN           NaN          NaN           NaN   \n79999           108          NaN           NaN          NaN           NaN   \n\n       mid_price  profit_and_loss  spread        lr  \n1        15000.0              0.0       2       NaN  \n6        15000.0              0.0       2  0.000000  \n10       14999.5              0.0       3  0.000033  \n13       15000.0              0.0       2 -0.000033  \n16       14999.0              0.0       2  0.000067  \n...          ...              ...     ...       ...  \n79983    15005.5         319308.0       3 -0.000233  \n79987    15003.5         325204.0       3  0.000133  \n79991    15004.5         321456.0       3 -0.000067  \n79993    15011.5         301608.0       3 -0.000466  \n79999    15012.5         297904.0       3 -0.000067  \n\n[20000 rows x 20 columns]",
      "text/html": "<div>\n<style scoped>\n    .dataframe tbody tr th:only-of-type {\n        vertical-align: middle;\n    }\n\n    .dataframe tbody tr th {\n        vertical-align: top;\n    }\n\n    .dataframe thead th {\n        text-align: right;\n    }\n</style>\n<table border=\"1\" class=\"dataframe\">\n  <thead>\n    <tr style=\"text-align: right;\">\n      <th></th>\n      <th>Unnamed: 0</th>\n      <th>timestamp</th>\n      <th>day</th>\n      <th>product</th>\n      <th>bid_price_1</th>\n      <th>bid_volume_1</th>\n      <th>bid_price_2</th>\n      <th>bid_volume_2</th>\n      <th>bid_price_3</th>\n      <th>bid_volume_3</th>\n      <th>ask_price_1</th>\n      <th>ask_volume_1</th>\n      <th>ask_price_2</th>\n      <th>ask_volume_2</th>\n      <th>ask_price_3</th>\n      <th>ask_volume_3</th>\n      <th>mid_price</th>\n      <th>profit_and_loss</th>\n      <th>spread</th>\n      <th>lr</th>\n    </tr>\n  </thead>\n  <tbody>\n    <tr>\n      <th>1</th>\n      <td>1</td>\n      <td>0</td>\n      <td>-1</td>\n      <td>PINA_COLADAS</td>\n      <td>14999</td>\n      <td>38</td>\n      <td>14998.0</td>\n      <td>53.0</td>\n      <td>NaN</td>\n      <td>NaN</td>\n      <td>15001</td>\n      <td>38</td>\n      <td>15002.0</td>\n      <td>53.0</td>\n      <td>NaN</td>\n      <td>NaN</td>\n      <td>15000.0</td>\n      <td>0.0</td>\n      <td>2</td>\n      <td>NaN</td>\n    </tr>\n    <tr>\n      <th>6</th>\n      <td>6</td>\n      <td>100</td>\n      <td>-1</td>\n      <td>PINA_COLADAS</td>\n      <td>14999</td>\n      <td>31</td>\n      <td>14998.0</td>\n      <td>64.0</td>\n      <td>NaN</td>\n      <td>NaN</td>\n      <td>15001</td>\n      <td>31</td>\n      <td>15002.0</td>\n      <td>64.0</td>\n      <td>NaN</td>\n      <td>NaN</td>\n      <td>15000.0</td>\n      <td>0.0</td>\n      <td>2</td>\n      <td>0.000000</td>\n    </tr>\n    <tr>\n      <th>10</th>\n      <td>10</td>\n      <td>200</td>\n      <td>-1</td>\n      <td>PINA_COLADAS</td>\n      <td>14998</td>\n      <td>106</td>\n      <td>NaN</td>\n      <td>NaN</td>\n      <td>NaN</td>\n      <td>NaN</td>\n      <td>15001</td>\n      <td>106</td>\n      <td>NaN</td>\n      <td>NaN</td>\n      <td>NaN</td>\n      <td>NaN</td>\n      <td>14999.5</td>\n      <td>0.0</td>\n      <td>3</td>\n      <td>0.000033</td>\n    </tr>\n    <tr>\n      <th>13</th>\n      <td>13</td>\n      <td>300</td>\n      <td>-1</td>\n      <td>PINA_COLADAS</td>\n      <td>14999</td>\n      <td>35</td>\n      <td>14998.0</td>\n      <td>67.0</td>\n      <td>NaN</td>\n      <td>NaN</td>\n      <td>15001</td>\n      <td>35</td>\n      <td>15002.0</td>\n      <td>67.0</td>\n      <td>NaN</td>\n      <td>NaN</td>\n      <td>15000.0</td>\n      <td>0.0</td>\n      <td>2</td>\n      <td>-0.000033</td>\n    </tr>\n    <tr>\n      <th>16</th>\n      <td>16</td>\n      <td>400</td>\n      <td>-1</td>\n      <td>PINA_COLADAS</td>\n      <td>14998</td>\n      <td>38</td>\n      <td>14997.0</td>\n      <td>69.0</td>\n      <td>NaN</td>\n      <td>NaN</td>\n      <td>15000</td>\n      <td>38</td>\n      <td>15001.0</td>\n      <td>69.0</td>\n      <td>NaN</td>\n      <td>NaN</td>\n      <td>14999.0</td>\n      <td>0.0</td>\n      <td>2</td>\n      <td>0.000067</td>\n    </tr>\n    <tr>\n      <th>...</th>\n      <td>...</td>\n      <td>...</td>\n      <td>...</td>\n      <td>...</td>\n      <td>...</td>\n      <td>...</td>\n      <td>...</td>\n      <td>...</td>\n      <td>...</td>\n      <td>...</td>\n      <td>...</td>\n      <td>...</td>\n      <td>...</td>\n      <td>...</td>\n      <td>...</td>\n      <td>...</td>\n      <td>...</td>\n      <td>...</td>\n      <td>...</td>\n      <td>...</td>\n    </tr>\n    <tr>\n      <th>79983</th>\n      <td>79983</td>\n      <td>1999500</td>\n      <td>0</td>\n      <td>PINA_COLADAS</td>\n      <td>15004</td>\n      <td>95</td>\n      <td>NaN</td>\n      <td>NaN</td>\n      <td>NaN</td>\n      <td>NaN</td>\n      <td>15007</td>\n      <td>95</td>\n      <td>NaN</td>\n      <td>NaN</td>\n      <td>NaN</td>\n      <td>NaN</td>\n      <td>15005.5</td>\n      <td>319308.0</td>\n      <td>3</td>\n      <td>-0.000233</td>\n    </tr>\n    <tr>\n      <th>79987</th>\n      <td>79987</td>\n      <td>1999600</td>\n      <td>0</td>\n      <td>PINA_COLADAS</td>\n      <td>15002</td>\n      <td>107</td>\n      <td>NaN</td>\n      <td>NaN</td>\n      <td>NaN</td>\n      <td>NaN</td>\n      <td>15005</td>\n      <td>107</td>\n      <td>NaN</td>\n      <td>NaN</td>\n      <td>NaN</td>\n      <td>NaN</td>\n      <td>15003.5</td>\n      <td>325204.0</td>\n      <td>3</td>\n      <td>0.000133</td>\n    </tr>\n    <tr>\n      <th>79991</th>\n      <td>79991</td>\n      <td>1999700</td>\n      <td>0</td>\n      <td>PINA_COLADAS</td>\n      <td>15003</td>\n      <td>77</td>\n      <td>NaN</td>\n      <td>NaN</td>\n      <td>NaN</td>\n      <td>NaN</td>\n      <td>15006</td>\n      <td>77</td>\n      <td>NaN</td>\n      <td>NaN</td>\n      <td>NaN</td>\n      <td>NaN</td>\n      <td>15004.5</td>\n      <td>321456.0</td>\n      <td>3</td>\n      <td>-0.000067</td>\n    </tr>\n    <tr>\n      <th>79993</th>\n      <td>79993</td>\n      <td>1999800</td>\n      <td>0</td>\n      <td>PINA_COLADAS</td>\n      <td>15010</td>\n      <td>23</td>\n      <td>15009.0</td>\n      <td>74.0</td>\n      <td>NaN</td>\n      <td>NaN</td>\n      <td>15013</td>\n      <td>97</td>\n      <td>NaN</td>\n      <td>NaN</td>\n      <td>NaN</td>\n      <td>NaN</td>\n      <td>15011.5</td>\n      <td>301608.0</td>\n      <td>3</td>\n      <td>-0.000466</td>\n    </tr>\n    <tr>\n      <th>79999</th>\n      <td>79999</td>\n      <td>1999900</td>\n      <td>0</td>\n      <td>PINA_COLADAS</td>\n      <td>15011</td>\n      <td>108</td>\n      <td>NaN</td>\n      <td>NaN</td>\n      <td>NaN</td>\n      <td>NaN</td>\n      <td>15014</td>\n      <td>108</td>\n      <td>NaN</td>\n      <td>NaN</td>\n      <td>NaN</td>\n      <td>NaN</td>\n      <td>15012.5</td>\n      <td>297904.0</td>\n      <td>3</td>\n      <td>-0.000067</td>\n    </tr>\n  </tbody>\n</table>\n<p>20000 rows × 20 columns</p>\n</div>"
     },
     "execution_count": 5,
     "metadata": {},
     "output_type": "execute_result"
    }
   ],
   "source": [
    "slc"
   ],
   "metadata": {
    "collapsed": false
   }
  },
  {
   "cell_type": "code",
   "execution_count": 4,
   "outputs": [
    {
     "data": {
      "text/plain": "   Unnamed: 0  timestamp  day       product  bid_price_1  bid_volume_1  \\\n0           0          0   -1        PEARLS        10002             1   \n1           1          0   -1  PINA_COLADAS        14999            38   \n2           2          0   -1      COCONUTS         7999           162   \n3           3          0   -1       BANANAS         4951             1   \n4           4        100   -1        PEARLS         9996             2   \n\n   bid_price_2  bid_volume_2  bid_price_3  bid_volume_3  ask_price_1  \\\n0       9996.0           2.0       9995.0          29.0        10004   \n1      14998.0          53.0          NaN           NaN        15001   \n2          NaN           NaN          NaN           NaN         8001   \n3       4946.0           2.0       4945.0          29.0         4952   \n4       9995.0          22.0          NaN           NaN        10004   \n\n   ask_volume_1  ask_price_2  ask_volume_2  ask_price_3  ask_volume_3  \\\n0             2      10005.0          29.0          NaN           NaN   \n1            38      15002.0          53.0          NaN           NaN   \n2            55       8002.0         107.0          NaN           NaN   \n3            31          NaN           NaN          NaN           NaN   \n4             2      10005.0          22.0          NaN           NaN   \n\n   mid_price  profit_and_loss  spread        lr  \n0    10003.0              0.0       2 -0.000300  \n1    15000.0              0.0       2  0.000000  \n2     8000.0              0.0       2 -0.000063  \n3     4951.5              0.0       1 -0.000606  \n4    10000.0              4.0       8  0.000000  ",
      "text/html": "<div>\n<style scoped>\n    .dataframe tbody tr th:only-of-type {\n        vertical-align: middle;\n    }\n\n    .dataframe tbody tr th {\n        vertical-align: top;\n    }\n\n    .dataframe thead th {\n        text-align: right;\n    }\n</style>\n<table border=\"1\" class=\"dataframe\">\n  <thead>\n    <tr style=\"text-align: right;\">\n      <th></th>\n      <th>Unnamed: 0</th>\n      <th>timestamp</th>\n      <th>day</th>\n      <th>product</th>\n      <th>bid_price_1</th>\n      <th>bid_volume_1</th>\n      <th>bid_price_2</th>\n      <th>bid_volume_2</th>\n      <th>bid_price_3</th>\n      <th>bid_volume_3</th>\n      <th>ask_price_1</th>\n      <th>ask_volume_1</th>\n      <th>ask_price_2</th>\n      <th>ask_volume_2</th>\n      <th>ask_price_3</th>\n      <th>ask_volume_3</th>\n      <th>mid_price</th>\n      <th>profit_and_loss</th>\n      <th>spread</th>\n      <th>lr</th>\n    </tr>\n  </thead>\n  <tbody>\n    <tr>\n      <th>0</th>\n      <td>0</td>\n      <td>0</td>\n      <td>-1</td>\n      <td>PEARLS</td>\n      <td>10002</td>\n      <td>1</td>\n      <td>9996.0</td>\n      <td>2.0</td>\n      <td>9995.0</td>\n      <td>29.0</td>\n      <td>10004</td>\n      <td>2</td>\n      <td>10005.0</td>\n      <td>29.0</td>\n      <td>NaN</td>\n      <td>NaN</td>\n      <td>10003.0</td>\n      <td>0.0</td>\n      <td>2</td>\n      <td>-0.000300</td>\n    </tr>\n    <tr>\n      <th>1</th>\n      <td>1</td>\n      <td>0</td>\n      <td>-1</td>\n      <td>PINA_COLADAS</td>\n      <td>14999</td>\n      <td>38</td>\n      <td>14998.0</td>\n      <td>53.0</td>\n      <td>NaN</td>\n      <td>NaN</td>\n      <td>15001</td>\n      <td>38</td>\n      <td>15002.0</td>\n      <td>53.0</td>\n      <td>NaN</td>\n      <td>NaN</td>\n      <td>15000.0</td>\n      <td>0.0</td>\n      <td>2</td>\n      <td>0.000000</td>\n    </tr>\n    <tr>\n      <th>2</th>\n      <td>2</td>\n      <td>0</td>\n      <td>-1</td>\n      <td>COCONUTS</td>\n      <td>7999</td>\n      <td>162</td>\n      <td>NaN</td>\n      <td>NaN</td>\n      <td>NaN</td>\n      <td>NaN</td>\n      <td>8001</td>\n      <td>55</td>\n      <td>8002.0</td>\n      <td>107.0</td>\n      <td>NaN</td>\n      <td>NaN</td>\n      <td>8000.0</td>\n      <td>0.0</td>\n      <td>2</td>\n      <td>-0.000063</td>\n    </tr>\n    <tr>\n      <th>3</th>\n      <td>3</td>\n      <td>0</td>\n      <td>-1</td>\n      <td>BANANAS</td>\n      <td>4951</td>\n      <td>1</td>\n      <td>4946.0</td>\n      <td>2.0</td>\n      <td>4945.0</td>\n      <td>29.0</td>\n      <td>4952</td>\n      <td>31</td>\n      <td>NaN</td>\n      <td>NaN</td>\n      <td>NaN</td>\n      <td>NaN</td>\n      <td>4951.5</td>\n      <td>0.0</td>\n      <td>1</td>\n      <td>-0.000606</td>\n    </tr>\n    <tr>\n      <th>4</th>\n      <td>4</td>\n      <td>100</td>\n      <td>-1</td>\n      <td>PEARLS</td>\n      <td>9996</td>\n      <td>2</td>\n      <td>9995.0</td>\n      <td>22.0</td>\n      <td>NaN</td>\n      <td>NaN</td>\n      <td>10004</td>\n      <td>2</td>\n      <td>10005.0</td>\n      <td>22.0</td>\n      <td>NaN</td>\n      <td>NaN</td>\n      <td>10000.0</td>\n      <td>4.0</td>\n      <td>8</td>\n      <td>0.000000</td>\n    </tr>\n  </tbody>\n</table>\n</div>"
     },
     "execution_count": 4,
     "metadata": {},
     "output_type": "execute_result"
    }
   ],
   "source": [
    "df.head()"
   ],
   "metadata": {
    "collapsed": false
   }
  },
  {
   "cell_type": "code",
   "execution_count": 5,
   "outputs": [],
   "source": [
    "df.drop(columns=['Unnamed: 0'], inplace=True, axis=1)"
   ],
   "metadata": {
    "collapsed": false
   }
  },
  {
   "cell_type": "code",
   "execution_count": 6,
   "outputs": [
    {
     "data": {
      "text/plain": "   timestamp  day       product  bid_price_1  bid_volume_1  bid_price_2  \\\n0          0   -1        PEARLS        10002             1       9996.0   \n1          0   -1  PINA_COLADAS        14999            38      14998.0   \n2          0   -1      COCONUTS         7999           162          NaN   \n3          0   -1       BANANAS         4951             1       4946.0   \n4        100   -1        PEARLS         9996             2       9995.0   \n\n   bid_volume_2  bid_price_3  bid_volume_3  ask_price_1  ask_volume_1  \\\n0           2.0       9995.0          29.0        10004             2   \n1          53.0          NaN           NaN        15001            38   \n2           NaN          NaN           NaN         8001            55   \n3           2.0       4945.0          29.0         4952            31   \n4          22.0          NaN           NaN        10004             2   \n\n   ask_price_2  ask_volume_2  ask_price_3  ask_volume_3  mid_price  \\\n0      10005.0          29.0          NaN           NaN    10003.0   \n1      15002.0          53.0          NaN           NaN    15000.0   \n2       8002.0         107.0          NaN           NaN     8000.0   \n3          NaN           NaN          NaN           NaN     4951.5   \n4      10005.0          22.0          NaN           NaN    10000.0   \n\n   profit_and_loss  spread        lr  \n0              0.0       2 -0.000300  \n1              0.0       2  0.000000  \n2              0.0       2 -0.000063  \n3              0.0       1 -0.000606  \n4              4.0       8  0.000000  ",
      "text/html": "<div>\n<style scoped>\n    .dataframe tbody tr th:only-of-type {\n        vertical-align: middle;\n    }\n\n    .dataframe tbody tr th {\n        vertical-align: top;\n    }\n\n    .dataframe thead th {\n        text-align: right;\n    }\n</style>\n<table border=\"1\" class=\"dataframe\">\n  <thead>\n    <tr style=\"text-align: right;\">\n      <th></th>\n      <th>timestamp</th>\n      <th>day</th>\n      <th>product</th>\n      <th>bid_price_1</th>\n      <th>bid_volume_1</th>\n      <th>bid_price_2</th>\n      <th>bid_volume_2</th>\n      <th>bid_price_3</th>\n      <th>bid_volume_3</th>\n      <th>ask_price_1</th>\n      <th>ask_volume_1</th>\n      <th>ask_price_2</th>\n      <th>ask_volume_2</th>\n      <th>ask_price_3</th>\n      <th>ask_volume_3</th>\n      <th>mid_price</th>\n      <th>profit_and_loss</th>\n      <th>spread</th>\n      <th>lr</th>\n    </tr>\n  </thead>\n  <tbody>\n    <tr>\n      <th>0</th>\n      <td>0</td>\n      <td>-1</td>\n      <td>PEARLS</td>\n      <td>10002</td>\n      <td>1</td>\n      <td>9996.0</td>\n      <td>2.0</td>\n      <td>9995.0</td>\n      <td>29.0</td>\n      <td>10004</td>\n      <td>2</td>\n      <td>10005.0</td>\n      <td>29.0</td>\n      <td>NaN</td>\n      <td>NaN</td>\n      <td>10003.0</td>\n      <td>0.0</td>\n      <td>2</td>\n      <td>-0.000300</td>\n    </tr>\n    <tr>\n      <th>1</th>\n      <td>0</td>\n      <td>-1</td>\n      <td>PINA_COLADAS</td>\n      <td>14999</td>\n      <td>38</td>\n      <td>14998.0</td>\n      <td>53.0</td>\n      <td>NaN</td>\n      <td>NaN</td>\n      <td>15001</td>\n      <td>38</td>\n      <td>15002.0</td>\n      <td>53.0</td>\n      <td>NaN</td>\n      <td>NaN</td>\n      <td>15000.0</td>\n      <td>0.0</td>\n      <td>2</td>\n      <td>0.000000</td>\n    </tr>\n    <tr>\n      <th>2</th>\n      <td>0</td>\n      <td>-1</td>\n      <td>COCONUTS</td>\n      <td>7999</td>\n      <td>162</td>\n      <td>NaN</td>\n      <td>NaN</td>\n      <td>NaN</td>\n      <td>NaN</td>\n      <td>8001</td>\n      <td>55</td>\n      <td>8002.0</td>\n      <td>107.0</td>\n      <td>NaN</td>\n      <td>NaN</td>\n      <td>8000.0</td>\n      <td>0.0</td>\n      <td>2</td>\n      <td>-0.000063</td>\n    </tr>\n    <tr>\n      <th>3</th>\n      <td>0</td>\n      <td>-1</td>\n      <td>BANANAS</td>\n      <td>4951</td>\n      <td>1</td>\n      <td>4946.0</td>\n      <td>2.0</td>\n      <td>4945.0</td>\n      <td>29.0</td>\n      <td>4952</td>\n      <td>31</td>\n      <td>NaN</td>\n      <td>NaN</td>\n      <td>NaN</td>\n      <td>NaN</td>\n      <td>4951.5</td>\n      <td>0.0</td>\n      <td>1</td>\n      <td>-0.000606</td>\n    </tr>\n    <tr>\n      <th>4</th>\n      <td>100</td>\n      <td>-1</td>\n      <td>PEARLS</td>\n      <td>9996</td>\n      <td>2</td>\n      <td>9995.0</td>\n      <td>22.0</td>\n      <td>NaN</td>\n      <td>NaN</td>\n      <td>10004</td>\n      <td>2</td>\n      <td>10005.0</td>\n      <td>22.0</td>\n      <td>NaN</td>\n      <td>NaN</td>\n      <td>10000.0</td>\n      <td>4.0</td>\n      <td>8</td>\n      <td>0.000000</td>\n    </tr>\n  </tbody>\n</table>\n</div>"
     },
     "execution_count": 6,
     "metadata": {},
     "output_type": "execute_result"
    }
   ],
   "source": [
    "df.head()"
   ],
   "metadata": {
    "collapsed": false
   }
  },
  {
   "cell_type": "code",
   "execution_count": 7,
   "outputs": [],
   "source": [
    "df.to_csv('round2/ob_train.csv', sep=';', index=False)"
   ],
   "metadata": {
    "collapsed": false
   }
  },
  {
   "cell_type": "code",
   "execution_count": null,
   "outputs": [],
   "source": [],
   "metadata": {
    "collapsed": false
   }
  }
 ],
 "metadata": {
  "kernelspec": {
   "display_name": "Python 3",
   "language": "python",
   "name": "python3"
  },
  "language_info": {
   "codemirror_mode": {
    "name": "ipython",
    "version": 2
   },
   "file_extension": ".py",
   "mimetype": "text/x-python",
   "name": "python",
   "nbconvert_exporter": "python",
   "pygments_lexer": "ipython2",
   "version": "2.7.6"
  }
 },
 "nbformat": 4,
 "nbformat_minor": 0
}
