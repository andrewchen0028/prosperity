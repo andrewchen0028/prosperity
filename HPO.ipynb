{
 "cells": [
  {
   "cell_type": "code",
   "execution_count": 8,
   "metadata": {
    "collapsed": true
   },
   "outputs": [],
   "source": [
    "import optuna\n",
    "import pandas as pd"
   ]
  },
  {
   "cell_type": "code",
   "execution_count": 9,
   "metadata": {
    "collapsed": false
   },
   "outputs": [],
   "source": [
    "def objective(trial):\n",
    "    y = trial.suggest_float('y', 0, 10)\n",
    "    k = trial.suggest_float('k', 0, 10)\n",
    "    vol_window = trial.suggest_int('vol_window', 10, 100)\n",
    "    res = input(f'Trial Result for {y} {k} {vol_window}:')\n",
    "\n",
    "    if res == 'abort':\n",
    "        raise KeyboardInterrupt\n",
    "\n",
    "    return float(res)\n"
   ]
  },
  {
   "cell_type": "code",
   "execution_count": 10,
   "metadata": {
    "collapsed": false
   },
   "outputs": [
    {
     "name": "stderr",
     "output_type": "stream",
     "text": [
      "\u001B[32m[I 2023-03-21 22:10:38,582]\u001B[0m A new study created in memory with name: no-name-1b8ab360-0c9e-4156-adc7-da492625361c\u001B[0m\n",
      "\u001B[32m[I 2023-03-21 22:10:42,989]\u001B[0m Trial 0 finished with value: -1.0 and parameters: {'y': 7.532430601185796, 'k': 9.7844499073001, 'vol_window': 19}. Best is trial 0 with value: -1.0.\u001B[0m\n",
      "\u001B[32m[I 2023-03-21 22:16:38,251]\u001B[0m Trial 1 finished with value: -1779.0 and parameters: {'y': 3.5455050643013597, 'k': 9.540676596384841, 'vol_window': 45}. Best is trial 0 with value: -1.0.\u001B[0m\n",
      "\u001B[32m[I 2023-03-21 22:20:23,101]\u001B[0m Trial 2 finished with value: -1390.0 and parameters: {'y': 6.373980903887471, 'k': 2.337124094374783, 'vol_window': 73}. Best is trial 0 with value: -1.0.\u001B[0m\n",
      "\u001B[32m[I 2023-03-21 22:25:40,081]\u001B[0m Trial 3 finished with value: -899.0 and parameters: {'y': 3.7654530827344046, 'k': 2.4116862930929117, 'vol_window': 42}. Best is trial 0 with value: -1.0.\u001B[0m\n",
      "\u001B[32m[I 2023-03-21 22:28:03,621]\u001B[0m Trial 4 finished with value: -1822.0 and parameters: {'y': 5.490046156618544, 'k': 9.94574455517555, 'vol_window': 50}. Best is trial 0 with value: -1.0.\u001B[0m\n",
      "\u001B[32m[I 2023-03-21 22:31:17,421]\u001B[0m Trial 5 finished with value: -473.0 and parameters: {'y': 1.801597618902342, 'k': 2.848662542959466, 'vol_window': 30}. Best is trial 0 with value: -1.0.\u001B[0m\n",
      "\u001B[32m[I 2023-03-21 22:36:52,685]\u001B[0m Trial 6 finished with value: -468.1 and parameters: {'y': 1.9355540053948461, 'k': 4.125184459906857, 'vol_window': 38}. Best is trial 0 with value: -1.0.\u001B[0m\n",
      "\u001B[32m[I 2023-03-21 22:39:43,298]\u001B[0m Trial 7 finished with value: -194.1 and parameters: {'y': 0.35248958699472754, 'k': 1.5927043260319262, 'vol_window': 79}. Best is trial 0 with value: -1.0.\u001B[0m\n",
      "\u001B[32m[I 2023-03-21 22:43:06,857]\u001B[0m Trial 8 finished with value: -1616.0 and parameters: {'y': 5.8030545740220045, 'k': 4.1546470425660385, 'vol_window': 55}. Best is trial 0 with value: -1.0.\u001B[0m\n",
      "\u001B[32m[I 2023-03-21 22:47:10,411]\u001B[0m Trial 9 finished with value: -1699.0 and parameters: {'y': 6.966901451742814, 'k': 7.715211693459263, 'vol_window': 45}. Best is trial 0 with value: -1.0.\u001B[0m\n"
     ]
    }
   ],
   "source": [
    "study = optuna.create_study(direction='maximize')\n",
    "study.optimize(objective, n_trials=10)"
   ]
  },
  {
   "cell_type": "code",
   "execution_count": 12,
   "metadata": {
    "collapsed": false
   },
   "outputs": [
    {
     "name": "stderr",
     "output_type": "stream",
     "text": [
      "\u001B[33m[W 2023-03-21 22:48:17,994]\u001B[0m Trial 11 failed with parameters: {'y': 9.315181391362223, 'k': 6.67426231772632, 'vol_window': 11} because of the following error: ValueError(\"could not convert string to float: ''\").\u001B[0m\n",
      "Traceback (most recent call last):\n",
      "  File \"/home/andrew/Projects/prosperity/.venv/lib/python3.10/site-packages/optuna/study/_optimize.py\", line 200, in _run_trial\n",
      "    value_or_values = func(trial)\n",
      "  File \"/tmp/ipykernel_4383/2645656877.py\", line 10, in objective\n",
      "    return float(res)\n",
      "ValueError: could not convert string to float: ''\n",
      "\u001B[33m[W 2023-03-21 22:48:17,995]\u001B[0m Trial 11 failed with value None.\u001B[0m\n"
     ]
    },
    {
     "ename": "ValueError",
     "evalue": "could not convert string to float: ''",
     "output_type": "error",
     "traceback": [
      "\u001B[0;31m---------------------------------------------------------------------------\u001B[0m",
      "\u001B[0;31mValueError\u001B[0m                                Traceback (most recent call last)",
      "Cell \u001B[0;32mIn[12], line 1\u001B[0m\n\u001B[0;32m----> 1\u001B[0m study\u001B[39m.\u001B[39;49moptimize(objective)\n",
      "File \u001B[0;32m~/Projects/prosperity/.venv/lib/python3.10/site-packages/optuna/study/study.py:425\u001B[0m, in \u001B[0;36mStudy.optimize\u001B[0;34m(self, func, n_trials, timeout, n_jobs, catch, callbacks, gc_after_trial, show_progress_bar)\u001B[0m\n\u001B[1;32m    321\u001B[0m \u001B[39mdef\u001B[39;00m \u001B[39moptimize\u001B[39m(\n\u001B[1;32m    322\u001B[0m     \u001B[39mself\u001B[39m,\n\u001B[1;32m    323\u001B[0m     func: ObjectiveFuncType,\n\u001B[0;32m   (...)\u001B[0m\n\u001B[1;32m    330\u001B[0m     show_progress_bar: \u001B[39mbool\u001B[39m \u001B[39m=\u001B[39m \u001B[39mFalse\u001B[39;00m,\n\u001B[1;32m    331\u001B[0m ) \u001B[39m-\u001B[39m\u001B[39m>\u001B[39m \u001B[39mNone\u001B[39;00m:\n\u001B[1;32m    332\u001B[0m \u001B[39m    \u001B[39m\u001B[39m\"\"\"Optimize an objective function.\u001B[39;00m\n\u001B[1;32m    333\u001B[0m \n\u001B[1;32m    334\u001B[0m \u001B[39m    Optimization is done by choosing a suitable set of hyperparameter values from a given\u001B[39;00m\n\u001B[0;32m   (...)\u001B[0m\n\u001B[1;32m    422\u001B[0m \u001B[39m            If nested invocation of this method occurs.\u001B[39;00m\n\u001B[1;32m    423\u001B[0m \u001B[39m    \"\"\"\u001B[39;00m\n\u001B[0;32m--> 425\u001B[0m     _optimize(\n\u001B[1;32m    426\u001B[0m         study\u001B[39m=\u001B[39;49m\u001B[39mself\u001B[39;49m,\n\u001B[1;32m    427\u001B[0m         func\u001B[39m=\u001B[39;49mfunc,\n\u001B[1;32m    428\u001B[0m         n_trials\u001B[39m=\u001B[39;49mn_trials,\n\u001B[1;32m    429\u001B[0m         timeout\u001B[39m=\u001B[39;49mtimeout,\n\u001B[1;32m    430\u001B[0m         n_jobs\u001B[39m=\u001B[39;49mn_jobs,\n\u001B[1;32m    431\u001B[0m         catch\u001B[39m=\u001B[39;49m\u001B[39mtuple\u001B[39;49m(catch) \u001B[39mif\u001B[39;49;00m \u001B[39misinstance\u001B[39;49m(catch, Iterable) \u001B[39melse\u001B[39;49;00m (catch,),\n\u001B[1;32m    432\u001B[0m         callbacks\u001B[39m=\u001B[39;49mcallbacks,\n\u001B[1;32m    433\u001B[0m         gc_after_trial\u001B[39m=\u001B[39;49mgc_after_trial,\n\u001B[1;32m    434\u001B[0m         show_progress_bar\u001B[39m=\u001B[39;49mshow_progress_bar,\n\u001B[1;32m    435\u001B[0m     )\n",
      "File \u001B[0;32m~/Projects/prosperity/.venv/lib/python3.10/site-packages/optuna/study/_optimize.py:66\u001B[0m, in \u001B[0;36m_optimize\u001B[0;34m(study, func, n_trials, timeout, n_jobs, catch, callbacks, gc_after_trial, show_progress_bar)\u001B[0m\n\u001B[1;32m     64\u001B[0m \u001B[39mtry\u001B[39;00m:\n\u001B[1;32m     65\u001B[0m     \u001B[39mif\u001B[39;00m n_jobs \u001B[39m==\u001B[39m \u001B[39m1\u001B[39m:\n\u001B[0;32m---> 66\u001B[0m         _optimize_sequential(\n\u001B[1;32m     67\u001B[0m             study,\n\u001B[1;32m     68\u001B[0m             func,\n\u001B[1;32m     69\u001B[0m             n_trials,\n\u001B[1;32m     70\u001B[0m             timeout,\n\u001B[1;32m     71\u001B[0m             catch,\n\u001B[1;32m     72\u001B[0m             callbacks,\n\u001B[1;32m     73\u001B[0m             gc_after_trial,\n\u001B[1;32m     74\u001B[0m             reseed_sampler_rng\u001B[39m=\u001B[39;49m\u001B[39mFalse\u001B[39;49;00m,\n\u001B[1;32m     75\u001B[0m             time_start\u001B[39m=\u001B[39;49m\u001B[39mNone\u001B[39;49;00m,\n\u001B[1;32m     76\u001B[0m             progress_bar\u001B[39m=\u001B[39;49mprogress_bar,\n\u001B[1;32m     77\u001B[0m         )\n\u001B[1;32m     78\u001B[0m     \u001B[39melse\u001B[39;00m:\n\u001B[1;32m     79\u001B[0m         \u001B[39mif\u001B[39;00m n_jobs \u001B[39m==\u001B[39m \u001B[39m-\u001B[39m\u001B[39m1\u001B[39m:\n",
      "File \u001B[0;32m~/Projects/prosperity/.venv/lib/python3.10/site-packages/optuna/study/_optimize.py:163\u001B[0m, in \u001B[0;36m_optimize_sequential\u001B[0;34m(study, func, n_trials, timeout, catch, callbacks, gc_after_trial, reseed_sampler_rng, time_start, progress_bar)\u001B[0m\n\u001B[1;32m    160\u001B[0m         \u001B[39mbreak\u001B[39;00m\n\u001B[1;32m    162\u001B[0m \u001B[39mtry\u001B[39;00m:\n\u001B[0;32m--> 163\u001B[0m     frozen_trial \u001B[39m=\u001B[39m _run_trial(study, func, catch)\n\u001B[1;32m    164\u001B[0m \u001B[39mfinally\u001B[39;00m:\n\u001B[1;32m    165\u001B[0m     \u001B[39m# The following line mitigates memory problems that can be occurred in some\u001B[39;00m\n\u001B[1;32m    166\u001B[0m     \u001B[39m# environments (e.g., services that use computing containers such as GitHub Actions).\u001B[39;00m\n\u001B[1;32m    167\u001B[0m     \u001B[39m# Please refer to the following PR for further details:\u001B[39;00m\n\u001B[1;32m    168\u001B[0m     \u001B[39m# https://github.com/optuna/optuna/pull/325.\u001B[39;00m\n\u001B[1;32m    169\u001B[0m     \u001B[39mif\u001B[39;00m gc_after_trial:\n",
      "File \u001B[0;32m~/Projects/prosperity/.venv/lib/python3.10/site-packages/optuna/study/_optimize.py:251\u001B[0m, in \u001B[0;36m_run_trial\u001B[0;34m(study, func, catch)\u001B[0m\n\u001B[1;32m    244\u001B[0m         \u001B[39massert\u001B[39;00m \u001B[39mFalse\u001B[39;00m, \u001B[39m\"\u001B[39m\u001B[39mShould not reach.\u001B[39m\u001B[39m\"\u001B[39m\n\u001B[1;32m    246\u001B[0m \u001B[39mif\u001B[39;00m (\n\u001B[1;32m    247\u001B[0m     frozen_trial\u001B[39m.\u001B[39mstate \u001B[39m==\u001B[39m TrialState\u001B[39m.\u001B[39mFAIL\n\u001B[1;32m    248\u001B[0m     \u001B[39mand\u001B[39;00m func_err \u001B[39mis\u001B[39;00m \u001B[39mnot\u001B[39;00m \u001B[39mNone\u001B[39;00m\n\u001B[1;32m    249\u001B[0m     \u001B[39mand\u001B[39;00m \u001B[39mnot\u001B[39;00m \u001B[39misinstance\u001B[39m(func_err, catch)\n\u001B[1;32m    250\u001B[0m ):\n\u001B[0;32m--> 251\u001B[0m     \u001B[39mraise\u001B[39;00m func_err\n\u001B[1;32m    252\u001B[0m \u001B[39mreturn\u001B[39;00m frozen_trial\n",
      "File \u001B[0;32m~/Projects/prosperity/.venv/lib/python3.10/site-packages/optuna/study/_optimize.py:200\u001B[0m, in \u001B[0;36m_run_trial\u001B[0;34m(study, func, catch)\u001B[0m\n\u001B[1;32m    198\u001B[0m \u001B[39mwith\u001B[39;00m get_heartbeat_thread(trial\u001B[39m.\u001B[39m_trial_id, study\u001B[39m.\u001B[39m_storage):\n\u001B[1;32m    199\u001B[0m     \u001B[39mtry\u001B[39;00m:\n\u001B[0;32m--> 200\u001B[0m         value_or_values \u001B[39m=\u001B[39m func(trial)\n\u001B[1;32m    201\u001B[0m     \u001B[39mexcept\u001B[39;00m exceptions\u001B[39m.\u001B[39mTrialPruned \u001B[39mas\u001B[39;00m e:\n\u001B[1;32m    202\u001B[0m         \u001B[39m# TODO(mamu): Handle multi-objective cases.\u001B[39;00m\n\u001B[1;32m    203\u001B[0m         state \u001B[39m=\u001B[39m TrialState\u001B[39m.\u001B[39mPRUNED\n",
      "Cell \u001B[0;32mIn[9], line 10\u001B[0m, in \u001B[0;36mobjective\u001B[0;34m(trial)\u001B[0m\n\u001B[1;32m      7\u001B[0m \u001B[39mif\u001B[39;00m res \u001B[39m==\u001B[39m \u001B[39m'\u001B[39m\u001B[39mabort\u001B[39m\u001B[39m'\u001B[39m:\n\u001B[1;32m      8\u001B[0m     \u001B[39mraise\u001B[39;00m \u001B[39mKeyboardInterrupt\u001B[39;00m\n\u001B[0;32m---> 10\u001B[0m \u001B[39mreturn\u001B[39;00m \u001B[39mfloat\u001B[39;49m(res)\n",
      "\u001B[0;31mValueError\u001B[0m: could not convert string to float: ''"
     ]
    }
   ],
   "source": [
    "study.optimize(objective)"
   ]
  }
 ],
 "metadata": {
  "kernelspec": {
   "display_name": "Python 3",
   "language": "python",
   "name": "python3"
  },
  "language_info": {
   "codemirror_mode": {
    "name": "ipython",
    "version": 3
   },
   "file_extension": ".py",
   "mimetype": "text/x-python",
   "name": "python",
   "nbconvert_exporter": "python",
   "pygments_lexer": "ipython3",
   "version": "3.10.6"
  }
 },
 "nbformat": 4,
 "nbformat_minor": 0
}
