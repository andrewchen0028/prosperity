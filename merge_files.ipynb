{
 "cells": [
  {
   "cell_type": "code",
   "execution_count": 1,
   "metadata": {
    "collapsed": true
   },
   "outputs": [],
   "source": [
    "import pandas as pd"
   ]
  },
  {
   "cell_type": "code",
   "execution_count": 2,
   "outputs": [],
   "source": [
    "df = pd.read_csv('round3/raw/prices_round_3_day_0.csv', delimiter=';', index_col=1)\n",
    "df2 = pd.read_csv('round3/raw/prices_round_3_day_1.csv', delimiter=';', index_col=1)\n",
    "df2.index = df2.index + int(1e6)"
   ],
   "metadata": {
    "collapsed": false
   }
  },
  {
   "cell_type": "code",
   "execution_count": 3,
   "outputs": [
    {
     "data": {
      "text/plain": "           day      product  bid_price_1  bid_volume_1  bid_price_2  \\\ntimestamp                                                             \n0            0  DIVING_GEAR      99999.0           6.0      99998.0   \n0            0       PEARLS       9998.0           1.0       9995.0   \n0            0     COCONUTS       8113.0         205.0          NaN   \n0            0      BERRIES       3997.0          19.0       3996.0   \n0            0      BANANAS       4893.0           1.0       4892.0   \n...        ...          ...          ...           ...          ...   \n1999900      1  DIVING_GEAR      99195.0           9.0      99194.0   \n1999900      1      BANANAS       4820.0          20.0          NaN   \n1999900      1       PEARLS       9995.0          20.0          NaN   \n1999900      1     COCONUTS       7922.0         178.0          NaN   \n1999900      1      BERRIES       3847.0          15.0       3846.0   \n\n           bid_volume_2  bid_price_3  bid_volume_3  ask_price_1  ask_volume_1  \\\ntimestamp                                                                       \n0                  19.0          NaN           NaN     100001.0           6.0   \n0                  30.0          NaN           NaN      10005.0          30.0   \n0                   NaN          NaN           NaN       8116.0         205.0   \n0                  58.0          NaN           NaN       4003.0          19.0   \n0                  30.0          NaN           NaN       4899.0          30.0   \n...                 ...          ...           ...          ...           ...   \n1999900            15.0          NaN           NaN      99197.0           9.0   \n1999900             NaN          NaN           NaN       4827.0          20.0   \n1999900             NaN          NaN           NaN      10005.0          20.0   \n1999900             NaN          NaN           NaN       7925.0         178.0   \n1999900            44.0          NaN           NaN       3854.0          15.0   \n\n           ask_price_2  ask_volume_2  ask_price_3  ask_volume_3  mid_price  \\\ntimestamp                                                                    \n0             100002.0          19.0          NaN           NaN   100000.0   \n0                  NaN           NaN          NaN           NaN    10001.5   \n0                  NaN           NaN          NaN           NaN     8114.5   \n0               4005.0          58.0          NaN           NaN     4000.0   \n0                  NaN           NaN          NaN           NaN     4896.0   \n...                ...           ...          ...           ...        ...   \n1999900        99198.0          15.0          NaN           NaN    99196.0   \n1999900            NaN           NaN          NaN           NaN     4823.5   \n1999900            NaN           NaN          NaN           NaN    10000.0   \n1999900            NaN           NaN          NaN           NaN     7923.5   \n1999900         3855.0          44.0          NaN           NaN     3850.5   \n\n           profit_and_loss  \ntimestamp                   \n0                      0.0  \n0                      0.0  \n0                      0.0  \n0                      0.0  \n0                      0.0  \n...                    ...  \n1999900           -23760.0  \n1999900            97704.0  \n1999900             -224.0  \n1999900            20068.0  \n1999900           227348.0  \n\n[140000 rows x 16 columns]",
      "text/html": "<div>\n<style scoped>\n    .dataframe tbody tr th:only-of-type {\n        vertical-align: middle;\n    }\n\n    .dataframe tbody tr th {\n        vertical-align: top;\n    }\n\n    .dataframe thead th {\n        text-align: right;\n    }\n</style>\n<table border=\"1\" class=\"dataframe\">\n  <thead>\n    <tr style=\"text-align: right;\">\n      <th></th>\n      <th>day</th>\n      <th>product</th>\n      <th>bid_price_1</th>\n      <th>bid_volume_1</th>\n      <th>bid_price_2</th>\n      <th>bid_volume_2</th>\n      <th>bid_price_3</th>\n      <th>bid_volume_3</th>\n      <th>ask_price_1</th>\n      <th>ask_volume_1</th>\n      <th>ask_price_2</th>\n      <th>ask_volume_2</th>\n      <th>ask_price_3</th>\n      <th>ask_volume_3</th>\n      <th>mid_price</th>\n      <th>profit_and_loss</th>\n    </tr>\n    <tr>\n      <th>timestamp</th>\n      <th></th>\n      <th></th>\n      <th></th>\n      <th></th>\n      <th></th>\n      <th></th>\n      <th></th>\n      <th></th>\n      <th></th>\n      <th></th>\n      <th></th>\n      <th></th>\n      <th></th>\n      <th></th>\n      <th></th>\n      <th></th>\n    </tr>\n  </thead>\n  <tbody>\n    <tr>\n      <th>0</th>\n      <td>0</td>\n      <td>DIVING_GEAR</td>\n      <td>99999.0</td>\n      <td>6.0</td>\n      <td>99998.0</td>\n      <td>19.0</td>\n      <td>NaN</td>\n      <td>NaN</td>\n      <td>100001.0</td>\n      <td>6.0</td>\n      <td>100002.0</td>\n      <td>19.0</td>\n      <td>NaN</td>\n      <td>NaN</td>\n      <td>100000.0</td>\n      <td>0.0</td>\n    </tr>\n    <tr>\n      <th>0</th>\n      <td>0</td>\n      <td>PEARLS</td>\n      <td>9998.0</td>\n      <td>1.0</td>\n      <td>9995.0</td>\n      <td>30.0</td>\n      <td>NaN</td>\n      <td>NaN</td>\n      <td>10005.0</td>\n      <td>30.0</td>\n      <td>NaN</td>\n      <td>NaN</td>\n      <td>NaN</td>\n      <td>NaN</td>\n      <td>10001.5</td>\n      <td>0.0</td>\n    </tr>\n    <tr>\n      <th>0</th>\n      <td>0</td>\n      <td>COCONUTS</td>\n      <td>8113.0</td>\n      <td>205.0</td>\n      <td>NaN</td>\n      <td>NaN</td>\n      <td>NaN</td>\n      <td>NaN</td>\n      <td>8116.0</td>\n      <td>205.0</td>\n      <td>NaN</td>\n      <td>NaN</td>\n      <td>NaN</td>\n      <td>NaN</td>\n      <td>8114.5</td>\n      <td>0.0</td>\n    </tr>\n    <tr>\n      <th>0</th>\n      <td>0</td>\n      <td>BERRIES</td>\n      <td>3997.0</td>\n      <td>19.0</td>\n      <td>3996.0</td>\n      <td>58.0</td>\n      <td>NaN</td>\n      <td>NaN</td>\n      <td>4003.0</td>\n      <td>19.0</td>\n      <td>4005.0</td>\n      <td>58.0</td>\n      <td>NaN</td>\n      <td>NaN</td>\n      <td>4000.0</td>\n      <td>0.0</td>\n    </tr>\n    <tr>\n      <th>0</th>\n      <td>0</td>\n      <td>BANANAS</td>\n      <td>4893.0</td>\n      <td>1.0</td>\n      <td>4892.0</td>\n      <td>30.0</td>\n      <td>NaN</td>\n      <td>NaN</td>\n      <td>4899.0</td>\n      <td>30.0</td>\n      <td>NaN</td>\n      <td>NaN</td>\n      <td>NaN</td>\n      <td>NaN</td>\n      <td>4896.0</td>\n      <td>0.0</td>\n    </tr>\n    <tr>\n      <th>...</th>\n      <td>...</td>\n      <td>...</td>\n      <td>...</td>\n      <td>...</td>\n      <td>...</td>\n      <td>...</td>\n      <td>...</td>\n      <td>...</td>\n      <td>...</td>\n      <td>...</td>\n      <td>...</td>\n      <td>...</td>\n      <td>...</td>\n      <td>...</td>\n      <td>...</td>\n      <td>...</td>\n    </tr>\n    <tr>\n      <th>1999900</th>\n      <td>1</td>\n      <td>DIVING_GEAR</td>\n      <td>99195.0</td>\n      <td>9.0</td>\n      <td>99194.0</td>\n      <td>15.0</td>\n      <td>NaN</td>\n      <td>NaN</td>\n      <td>99197.0</td>\n      <td>9.0</td>\n      <td>99198.0</td>\n      <td>15.0</td>\n      <td>NaN</td>\n      <td>NaN</td>\n      <td>99196.0</td>\n      <td>-23760.0</td>\n    </tr>\n    <tr>\n      <th>1999900</th>\n      <td>1</td>\n      <td>BANANAS</td>\n      <td>4820.0</td>\n      <td>20.0</td>\n      <td>NaN</td>\n      <td>NaN</td>\n      <td>NaN</td>\n      <td>NaN</td>\n      <td>4827.0</td>\n      <td>20.0</td>\n      <td>NaN</td>\n      <td>NaN</td>\n      <td>NaN</td>\n      <td>NaN</td>\n      <td>4823.5</td>\n      <td>97704.0</td>\n    </tr>\n    <tr>\n      <th>1999900</th>\n      <td>1</td>\n      <td>PEARLS</td>\n      <td>9995.0</td>\n      <td>20.0</td>\n      <td>NaN</td>\n      <td>NaN</td>\n      <td>NaN</td>\n      <td>NaN</td>\n      <td>10005.0</td>\n      <td>20.0</td>\n      <td>NaN</td>\n      <td>NaN</td>\n      <td>NaN</td>\n      <td>NaN</td>\n      <td>10000.0</td>\n      <td>-224.0</td>\n    </tr>\n    <tr>\n      <th>1999900</th>\n      <td>1</td>\n      <td>COCONUTS</td>\n      <td>7922.0</td>\n      <td>178.0</td>\n      <td>NaN</td>\n      <td>NaN</td>\n      <td>NaN</td>\n      <td>NaN</td>\n      <td>7925.0</td>\n      <td>178.0</td>\n      <td>NaN</td>\n      <td>NaN</td>\n      <td>NaN</td>\n      <td>NaN</td>\n      <td>7923.5</td>\n      <td>20068.0</td>\n    </tr>\n    <tr>\n      <th>1999900</th>\n      <td>1</td>\n      <td>BERRIES</td>\n      <td>3847.0</td>\n      <td>15.0</td>\n      <td>3846.0</td>\n      <td>44.0</td>\n      <td>NaN</td>\n      <td>NaN</td>\n      <td>3854.0</td>\n      <td>15.0</td>\n      <td>3855.0</td>\n      <td>44.0</td>\n      <td>NaN</td>\n      <td>NaN</td>\n      <td>3850.5</td>\n      <td>227348.0</td>\n    </tr>\n  </tbody>\n</table>\n<p>140000 rows × 16 columns</p>\n</div>"
     },
     "execution_count": 3,
     "metadata": {},
     "output_type": "execute_result"
    }
   ],
   "source": [
    "merged = pd.concat([df, df2], axis=0)\n",
    "merged"
   ],
   "metadata": {
    "collapsed": false
   }
  },
  {
   "cell_type": "code",
   "execution_count": 4,
   "outputs": [],
   "source": [
    "merged.drop('day', axis=1, inplace=True)"
   ],
   "metadata": {
    "collapsed": false
   }
  },
  {
   "cell_type": "code",
   "execution_count": 5,
   "outputs": [],
   "source": [
    "merged.to_csv('round3/ob_train.csv', sep=';')"
   ],
   "metadata": {
    "collapsed": false
   }
  },
  {
   "cell_type": "code",
   "execution_count": null,
   "outputs": [],
   "source": [],
   "metadata": {
    "collapsed": false
   }
  }
 ],
 "metadata": {
  "kernelspec": {
   "display_name": "Python 3",
   "language": "python",
   "name": "python3"
  },
  "language_info": {
   "codemirror_mode": {
    "name": "ipython",
    "version": 2
   },
   "file_extension": ".py",
   "mimetype": "text/x-python",
   "name": "python",
   "nbconvert_exporter": "python",
   "pygments_lexer": "ipython2",
   "version": "2.7.6"
  }
 },
 "nbformat": 4,
 "nbformat_minor": 0
}
