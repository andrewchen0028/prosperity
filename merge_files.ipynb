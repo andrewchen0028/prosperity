{
 "cells": [
  {
   "cell_type": "code",
   "execution_count": 1,
   "metadata": {
    "collapsed": true
   },
   "outputs": [],
   "source": [
    "import pandas as pd"
   ]
  },
  {
   "cell_type": "code",
   "execution_count": 2,
   "outputs": [],
   "source": [
    "df = pd.read_csv('round2/trades_round_2_day_-1_nn.csv', delimiter=';', index_col=0)\n",
    "df2 = pd.read_csv('round2/trades_round_2_day_0_nn.csv', delimiter=';', index_col=0)\n",
    "df2.index = df2.index + int(1e6)"
   ],
   "metadata": {
    "collapsed": false
   }
  },
  {
   "cell_type": "code",
   "execution_count": 3,
   "outputs": [
    {
     "data": {
      "text/plain": "           buyer  seller    symbol   currency   price  quantity\ntimestamp                                                      \n998800       NaN     NaN  COCONUTS  SEASHELLS  8114.0        22\n998900       NaN     NaN   BANANAS  SEASHELLS  4897.0         1\n999200       NaN     NaN   BANANAS  SEASHELLS  4896.0         1\n999600       NaN     NaN    PEARLS  SEASHELLS  9998.0         1\n999700       NaN     NaN   BANANAS  SEASHELLS  4891.0        12",
      "text/html": "<div>\n<style scoped>\n    .dataframe tbody tr th:only-of-type {\n        vertical-align: middle;\n    }\n\n    .dataframe tbody tr th {\n        vertical-align: top;\n    }\n\n    .dataframe thead th {\n        text-align: right;\n    }\n</style>\n<table border=\"1\" class=\"dataframe\">\n  <thead>\n    <tr style=\"text-align: right;\">\n      <th></th>\n      <th>buyer</th>\n      <th>seller</th>\n      <th>symbol</th>\n      <th>currency</th>\n      <th>price</th>\n      <th>quantity</th>\n    </tr>\n    <tr>\n      <th>timestamp</th>\n      <th></th>\n      <th></th>\n      <th></th>\n      <th></th>\n      <th></th>\n      <th></th>\n    </tr>\n  </thead>\n  <tbody>\n    <tr>\n      <th>998800</th>\n      <td>NaN</td>\n      <td>NaN</td>\n      <td>COCONUTS</td>\n      <td>SEASHELLS</td>\n      <td>8114.0</td>\n      <td>22</td>\n    </tr>\n    <tr>\n      <th>998900</th>\n      <td>NaN</td>\n      <td>NaN</td>\n      <td>BANANAS</td>\n      <td>SEASHELLS</td>\n      <td>4897.0</td>\n      <td>1</td>\n    </tr>\n    <tr>\n      <th>999200</th>\n      <td>NaN</td>\n      <td>NaN</td>\n      <td>BANANAS</td>\n      <td>SEASHELLS</td>\n      <td>4896.0</td>\n      <td>1</td>\n    </tr>\n    <tr>\n      <th>999600</th>\n      <td>NaN</td>\n      <td>NaN</td>\n      <td>PEARLS</td>\n      <td>SEASHELLS</td>\n      <td>9998.0</td>\n      <td>1</td>\n    </tr>\n    <tr>\n      <th>999700</th>\n      <td>NaN</td>\n      <td>NaN</td>\n      <td>BANANAS</td>\n      <td>SEASHELLS</td>\n      <td>4891.0</td>\n      <td>12</td>\n    </tr>\n  </tbody>\n</table>\n</div>"
     },
     "execution_count": 3,
     "metadata": {},
     "output_type": "execute_result"
    }
   ],
   "source": [
    "df.tail()"
   ],
   "metadata": {
    "collapsed": false
   }
  },
  {
   "cell_type": "code",
   "execution_count": 4,
   "outputs": [
    {
     "data": {
      "text/plain": "           buyer  seller   symbol   currency    price  quantity\ntimestamp                                                      \n1000100      NaN     NaN   PEARLS  SEASHELLS  10002.0         1\n1000300      NaN     NaN   PEARLS  SEASHELLS   9998.0         2\n1000300      NaN     NaN   PEARLS  SEASHELLS   9998.0         1\n1000400      NaN     NaN  BANANAS  SEASHELLS   4899.0         9\n1000500      NaN     NaN  BANANAS  SEASHELLS   4899.0         1",
      "text/html": "<div>\n<style scoped>\n    .dataframe tbody tr th:only-of-type {\n        vertical-align: middle;\n    }\n\n    .dataframe tbody tr th {\n        vertical-align: top;\n    }\n\n    .dataframe thead th {\n        text-align: right;\n    }\n</style>\n<table border=\"1\" class=\"dataframe\">\n  <thead>\n    <tr style=\"text-align: right;\">\n      <th></th>\n      <th>buyer</th>\n      <th>seller</th>\n      <th>symbol</th>\n      <th>currency</th>\n      <th>price</th>\n      <th>quantity</th>\n    </tr>\n    <tr>\n      <th>timestamp</th>\n      <th></th>\n      <th></th>\n      <th></th>\n      <th></th>\n      <th></th>\n      <th></th>\n    </tr>\n  </thead>\n  <tbody>\n    <tr>\n      <th>1000100</th>\n      <td>NaN</td>\n      <td>NaN</td>\n      <td>PEARLS</td>\n      <td>SEASHELLS</td>\n      <td>10002.0</td>\n      <td>1</td>\n    </tr>\n    <tr>\n      <th>1000300</th>\n      <td>NaN</td>\n      <td>NaN</td>\n      <td>PEARLS</td>\n      <td>SEASHELLS</td>\n      <td>9998.0</td>\n      <td>2</td>\n    </tr>\n    <tr>\n      <th>1000300</th>\n      <td>NaN</td>\n      <td>NaN</td>\n      <td>PEARLS</td>\n      <td>SEASHELLS</td>\n      <td>9998.0</td>\n      <td>1</td>\n    </tr>\n    <tr>\n      <th>1000400</th>\n      <td>NaN</td>\n      <td>NaN</td>\n      <td>BANANAS</td>\n      <td>SEASHELLS</td>\n      <td>4899.0</td>\n      <td>9</td>\n    </tr>\n    <tr>\n      <th>1000500</th>\n      <td>NaN</td>\n      <td>NaN</td>\n      <td>BANANAS</td>\n      <td>SEASHELLS</td>\n      <td>4899.0</td>\n      <td>1</td>\n    </tr>\n  </tbody>\n</table>\n</div>"
     },
     "execution_count": 4,
     "metadata": {},
     "output_type": "execute_result"
    }
   ],
   "source": [
    "df2.head()"
   ],
   "metadata": {
    "collapsed": false
   }
  },
  {
   "cell_type": "code",
   "execution_count": 5,
   "outputs": [
    {
     "data": {
      "text/plain": "           buyer  seller    symbol   currency    price  quantity\ntimestamp                                                       \n0            NaN     NaN    PEARLS  SEASHELLS  10004.0         1\n0            NaN     NaN   BANANAS  SEASHELLS   4952.0         1\n1100         NaN     NaN    PEARLS  SEASHELLS   9996.0         2\n1300         NaN     NaN   BANANAS  SEASHELLS   4949.0         3\n1600         NaN     NaN  COCONUTS  SEASHELLS   8000.0        30\n...          ...     ...       ...        ...      ...       ...\n1998800      NaN     NaN   BANANAS  SEASHELLS   4870.0         1\n1999200      NaN     NaN  COCONUTS  SEASHELLS   7998.0        44\n1999300      NaN     NaN   BANANAS  SEASHELLS   4875.0        17\n1999500      NaN     NaN   BANANAS  SEASHELLS   4869.0         2\n1999500      NaN     NaN    PEARLS  SEASHELLS   9995.0         2\n\n[11742 rows x 6 columns]",
      "text/html": "<div>\n<style scoped>\n    .dataframe tbody tr th:only-of-type {\n        vertical-align: middle;\n    }\n\n    .dataframe tbody tr th {\n        vertical-align: top;\n    }\n\n    .dataframe thead th {\n        text-align: right;\n    }\n</style>\n<table border=\"1\" class=\"dataframe\">\n  <thead>\n    <tr style=\"text-align: right;\">\n      <th></th>\n      <th>buyer</th>\n      <th>seller</th>\n      <th>symbol</th>\n      <th>currency</th>\n      <th>price</th>\n      <th>quantity</th>\n    </tr>\n    <tr>\n      <th>timestamp</th>\n      <th></th>\n      <th></th>\n      <th></th>\n      <th></th>\n      <th></th>\n      <th></th>\n    </tr>\n  </thead>\n  <tbody>\n    <tr>\n      <th>0</th>\n      <td>NaN</td>\n      <td>NaN</td>\n      <td>PEARLS</td>\n      <td>SEASHELLS</td>\n      <td>10004.0</td>\n      <td>1</td>\n    </tr>\n    <tr>\n      <th>0</th>\n      <td>NaN</td>\n      <td>NaN</td>\n      <td>BANANAS</td>\n      <td>SEASHELLS</td>\n      <td>4952.0</td>\n      <td>1</td>\n    </tr>\n    <tr>\n      <th>1100</th>\n      <td>NaN</td>\n      <td>NaN</td>\n      <td>PEARLS</td>\n      <td>SEASHELLS</td>\n      <td>9996.0</td>\n      <td>2</td>\n    </tr>\n    <tr>\n      <th>1300</th>\n      <td>NaN</td>\n      <td>NaN</td>\n      <td>BANANAS</td>\n      <td>SEASHELLS</td>\n      <td>4949.0</td>\n      <td>3</td>\n    </tr>\n    <tr>\n      <th>1600</th>\n      <td>NaN</td>\n      <td>NaN</td>\n      <td>COCONUTS</td>\n      <td>SEASHELLS</td>\n      <td>8000.0</td>\n      <td>30</td>\n    </tr>\n    <tr>\n      <th>...</th>\n      <td>...</td>\n      <td>...</td>\n      <td>...</td>\n      <td>...</td>\n      <td>...</td>\n      <td>...</td>\n    </tr>\n    <tr>\n      <th>1998800</th>\n      <td>NaN</td>\n      <td>NaN</td>\n      <td>BANANAS</td>\n      <td>SEASHELLS</td>\n      <td>4870.0</td>\n      <td>1</td>\n    </tr>\n    <tr>\n      <th>1999200</th>\n      <td>NaN</td>\n      <td>NaN</td>\n      <td>COCONUTS</td>\n      <td>SEASHELLS</td>\n      <td>7998.0</td>\n      <td>44</td>\n    </tr>\n    <tr>\n      <th>1999300</th>\n      <td>NaN</td>\n      <td>NaN</td>\n      <td>BANANAS</td>\n      <td>SEASHELLS</td>\n      <td>4875.0</td>\n      <td>17</td>\n    </tr>\n    <tr>\n      <th>1999500</th>\n      <td>NaN</td>\n      <td>NaN</td>\n      <td>BANANAS</td>\n      <td>SEASHELLS</td>\n      <td>4869.0</td>\n      <td>2</td>\n    </tr>\n    <tr>\n      <th>1999500</th>\n      <td>NaN</td>\n      <td>NaN</td>\n      <td>PEARLS</td>\n      <td>SEASHELLS</td>\n      <td>9995.0</td>\n      <td>2</td>\n    </tr>\n  </tbody>\n</table>\n<p>11742 rows × 6 columns</p>\n</div>"
     },
     "execution_count": 5,
     "metadata": {},
     "output_type": "execute_result"
    }
   ],
   "source": [
    "merged = pd.concat([df, df2], axis=0)\n",
    "merged"
   ],
   "metadata": {
    "collapsed": false
   }
  },
  {
   "cell_type": "code",
   "execution_count": 6,
   "outputs": [],
   "source": [
    "merged.to_csv('round2/trd_train.csv', sep=';')"
   ],
   "metadata": {
    "collapsed": false
   }
  },
  {
   "cell_type": "code",
   "execution_count": null,
   "outputs": [],
   "source": [],
   "metadata": {
    "collapsed": false
   }
  }
 ],
 "metadata": {
  "kernelspec": {
   "display_name": "Python 3",
   "language": "python",
   "name": "python3"
  },
  "language_info": {
   "codemirror_mode": {
    "name": "ipython",
    "version": 2
   },
   "file_extension": ".py",
   "mimetype": "text/x-python",
   "name": "python",
   "nbconvert_exporter": "python",
   "pygments_lexer": "ipython2",
   "version": "2.7.6"
  }
 },
 "nbformat": 4,
 "nbformat_minor": 0
}
